{
 "cells": [
  {
   "cell_type": "code",
   "id": "initial_id",
   "metadata": {
    "collapsed": true,
    "ExecuteTime": {
     "end_time": "2024-11-25T17:56:37.624001Z",
     "start_time": "2024-11-25T17:56:36.116177Z"
    }
   },
   "source": "import numpy as np",
   "outputs": [],
   "execution_count": 1
  },
  {
   "metadata": {
    "ExecuteTime": {
     "end_time": "2024-11-25T17:56:37.686439Z",
     "start_time": "2024-11-25T17:56:37.662787Z"
    }
   },
   "cell_type": "code",
   "source": "arr = np.arange(0,10)",
   "id": "c774713f9c402547",
   "outputs": [],
   "execution_count": 2
  },
  {
   "metadata": {
    "ExecuteTime": {
     "end_time": "2024-11-25T17:56:39.083902Z",
     "start_time": "2024-11-25T17:56:39.036603Z"
    }
   },
   "cell_type": "code",
   "source": "arr",
   "id": "c93d49e48cf2c505",
   "outputs": [
    {
     "data": {
      "text/plain": [
       "array([0, 1, 2, 3, 4, 5, 6, 7, 8, 9])"
      ]
     },
     "execution_count": 3,
     "metadata": {},
     "output_type": "execute_result"
    }
   ],
   "execution_count": 3
  },
  {
   "metadata": {
    "ExecuteTime": {
     "end_time": "2024-11-25T17:56:40.740036Z",
     "start_time": "2024-11-25T17:56:40.724692Z"
    }
   },
   "cell_type": "code",
   "source": "arr + 5",
   "id": "bb2b089e4af73cdc",
   "outputs": [
    {
     "data": {
      "text/plain": [
       "array([ 5,  6,  7,  8,  9, 10, 11, 12, 13, 14])"
      ]
     },
     "execution_count": 4,
     "metadata": {},
     "output_type": "execute_result"
    }
   ],
   "execution_count": 4
  },
  {
   "metadata": {
    "ExecuteTime": {
     "end_time": "2024-11-25T17:56:54.016435Z",
     "start_time": "2024-11-25T17:56:54.001196Z"
    }
   },
   "cell_type": "code",
   "source": "arr - 2",
   "id": "cf1f62fe899c6a3d",
   "outputs": [
    {
     "data": {
      "text/plain": [
       "array([-2, -1,  0,  1,  2,  3,  4,  5,  6,  7])"
      ]
     },
     "execution_count": 5,
     "metadata": {},
     "output_type": "execute_result"
    }
   ],
   "execution_count": 5
  },
  {
   "metadata": {
    "ExecuteTime": {
     "end_time": "2024-11-25T17:57:12.482016Z",
     "start_time": "2024-11-25T17:57:12.467181Z"
    }
   },
   "cell_type": "code",
   "source": "arr * arr",
   "id": "b98c0a1aba3bc69b",
   "outputs": [
    {
     "data": {
      "text/plain": [
       "array([ 0,  1,  4,  9, 16, 25, 36, 49, 64, 81])"
      ]
     },
     "execution_count": 6,
     "metadata": {},
     "output_type": "execute_result"
    }
   ],
   "execution_count": 6
  },
  {
   "metadata": {
    "ExecuteTime": {
     "end_time": "2024-11-25T17:57:22.863254Z",
     "start_time": "2024-11-25T17:57:22.849924Z"
    }
   },
   "cell_type": "code",
   "source": "arr - arr",
   "id": "2b0d7d0bf8cf75e",
   "outputs": [
    {
     "data": {
      "text/plain": [
       "array([0, 0, 0, 0, 0, 0, 0, 0, 0, 0])"
      ]
     },
     "execution_count": 7,
     "metadata": {},
     "output_type": "execute_result"
    }
   ],
   "execution_count": 7
  },
  {
   "metadata": {
    "ExecuteTime": {
     "end_time": "2024-11-25T17:57:32.696590Z",
     "start_time": "2024-11-25T17:57:32.683719Z"
    }
   },
   "cell_type": "code",
   "source": "arr",
   "id": "c53389011328e3b2",
   "outputs": [
    {
     "data": {
      "text/plain": [
       "array([0, 1, 2, 3, 4, 5, 6, 7, 8, 9])"
      ]
     },
     "execution_count": 8,
     "metadata": {},
     "output_type": "execute_result"
    }
   ],
   "execution_count": 8
  },
  {
   "metadata": {
    "ExecuteTime": {
     "end_time": "2024-11-25T17:57:47.051108Z",
     "start_time": "2024-11-25T17:57:47.040918Z"
    }
   },
   "cell_type": "code",
   "source": "arr/arr",
   "id": "aa590c00e18730e8",
   "outputs": [
    {
     "name": "stderr",
     "output_type": "stream",
     "text": [
      "C:\\Users\\hHP\\AppData\\Local\\Temp\\ipykernel_14476\\3576909265.py:1: RuntimeWarning: invalid value encountered in divide\n",
      "  arr/arr\n"
     ]
    },
    {
     "data": {
      "text/plain": [
       "array([nan,  1.,  1.,  1.,  1.,  1.,  1.,  1.,  1.,  1.])"
      ]
     },
     "execution_count": 9,
     "metadata": {},
     "output_type": "execute_result"
    }
   ],
   "execution_count": 9
  },
  {
   "metadata": {
    "ExecuteTime": {
     "end_time": "2024-11-25T17:58:05.809733Z",
     "start_time": "2024-11-25T17:58:05.098022Z"
    }
   },
   "cell_type": "code",
   "source": "1 / 0",
   "id": "2ff01aed2178aa51",
   "outputs": [
    {
     "ename": "ZeroDivisionError",
     "evalue": "division by zero",
     "output_type": "error",
     "traceback": [
      "\u001B[1;31m---------------------------------------------------------------------------\u001B[0m",
      "\u001B[1;31mZeroDivisionError\u001B[0m                         Traceback (most recent call last)",
      "Cell \u001B[1;32mIn[10], line 1\u001B[0m\n\u001B[1;32m----> 1\u001B[0m \u001B[38;5;241;43m1\u001B[39;49m\u001B[43m \u001B[49m\u001B[38;5;241;43m/\u001B[39;49m\u001B[43m \u001B[49m\u001B[38;5;241;43m0\u001B[39;49m\n",
      "\u001B[1;31mZeroDivisionError\u001B[0m: division by zero"
     ]
    }
   ],
   "execution_count": 10
  },
  {
   "metadata": {
    "ExecuteTime": {
     "end_time": "2024-11-25T17:58:17.269296Z",
     "start_time": "2024-11-25T17:58:17.251916Z"
    }
   },
   "cell_type": "code",
   "source": "1 / arr",
   "id": "7ddef5fef72e7caf",
   "outputs": [
    {
     "name": "stderr",
     "output_type": "stream",
     "text": [
      "C:\\Users\\hHP\\AppData\\Local\\Temp\\ipykernel_14476\\2495778407.py:1: RuntimeWarning: divide by zero encountered in divide\n",
      "  1 / arr\n"
     ]
    },
    {
     "data": {
      "text/plain": [
       "array([       inf, 1.        , 0.5       , 0.33333333, 0.25      ,\n",
       "       0.2       , 0.16666667, 0.14285714, 0.125     , 0.11111111])"
      ]
     },
     "execution_count": 11,
     "metadata": {},
     "output_type": "execute_result"
    }
   ],
   "execution_count": 11
  },
  {
   "metadata": {
    "ExecuteTime": {
     "end_time": "2024-11-25T17:59:16.251673Z",
     "start_time": "2024-11-25T17:59:16.232269Z"
    }
   },
   "cell_type": "code",
   "source": "np.sqrt(arr)",
   "id": "98e6b7eeb0ce4563",
   "outputs": [
    {
     "data": {
      "text/plain": [
       "array([0.        , 1.        , 1.41421356, 1.73205081, 2.        ,\n",
       "       2.23606798, 2.44948974, 2.64575131, 2.82842712, 3.        ])"
      ]
     },
     "execution_count": 12,
     "metadata": {},
     "output_type": "execute_result"
    }
   ],
   "execution_count": 12
  },
  {
   "metadata": {
    "ExecuteTime": {
     "end_time": "2024-11-25T17:59:30.181875Z",
     "start_time": "2024-11-25T17:59:30.167339Z"
    }
   },
   "cell_type": "code",
   "source": "np.sin(arr)",
   "id": "9be216360115055",
   "outputs": [
    {
     "data": {
      "text/plain": [
       "array([ 0.        ,  0.84147098,  0.90929743,  0.14112001, -0.7568025 ,\n",
       "       -0.95892427, -0.2794155 ,  0.6569866 ,  0.98935825,  0.41211849])"
      ]
     },
     "execution_count": 13,
     "metadata": {},
     "output_type": "execute_result"
    }
   ],
   "execution_count": 13
  },
  {
   "metadata": {
    "ExecuteTime": {
     "end_time": "2024-11-25T17:59:38.420689Z",
     "start_time": "2024-11-25T17:59:38.408691Z"
    }
   },
   "cell_type": "code",
   "source": "np.log(arr)",
   "id": "8b7ff07604f4ced8",
   "outputs": [
    {
     "name": "stderr",
     "output_type": "stream",
     "text": [
      "C:\\Users\\hHP\\AppData\\Local\\Temp\\ipykernel_14476\\2931416741.py:1: RuntimeWarning: divide by zero encountered in log\n",
      "  np.log(arr)\n"
     ]
    },
    {
     "data": {
      "text/plain": [
       "array([      -inf, 0.        , 0.69314718, 1.09861229, 1.38629436,\n",
       "       1.60943791, 1.79175947, 1.94591015, 2.07944154, 2.19722458])"
      ]
     },
     "execution_count": 14,
     "metadata": {},
     "output_type": "execute_result"
    }
   ],
   "execution_count": 14
  },
  {
   "metadata": {
    "ExecuteTime": {
     "end_time": "2024-11-25T18:00:17.039225Z",
     "start_time": "2024-11-25T18:00:17.021134Z"
    }
   },
   "cell_type": "code",
   "source": "arr",
   "id": "e17d9c8ec085029f",
   "outputs": [
    {
     "data": {
      "text/plain": [
       "array([0, 1, 2, 3, 4, 5, 6, 7, 8, 9])"
      ]
     },
     "execution_count": 15,
     "metadata": {},
     "output_type": "execute_result"
    }
   ],
   "execution_count": 15
  },
  {
   "metadata": {
    "ExecuteTime": {
     "end_time": "2024-11-25T18:00:41.374597Z",
     "start_time": "2024-11-25T18:00:41.358777Z"
    }
   },
   "cell_type": "code",
   "source": "arr.sum()",
   "id": "b4ed6ea35d1bea8a",
   "outputs": [
    {
     "data": {
      "text/plain": [
       "45"
      ]
     },
     "execution_count": 17,
     "metadata": {},
     "output_type": "execute_result"
    }
   ],
   "execution_count": 17
  },
  {
   "metadata": {
    "ExecuteTime": {
     "end_time": "2024-11-25T18:00:52.255967Z",
     "start_time": "2024-11-25T18:00:52.233207Z"
    }
   },
   "cell_type": "code",
   "source": "arr.mean()",
   "id": "ed19e6ef21d9ff26",
   "outputs": [
    {
     "data": {
      "text/plain": [
       "4.5"
      ]
     },
     "execution_count": 18,
     "metadata": {},
     "output_type": "execute_result"
    }
   ],
   "execution_count": 18
  },
  {
   "metadata": {
    "ExecuteTime": {
     "end_time": "2024-11-25T18:01:05.776099Z",
     "start_time": "2024-11-25T18:01:05.762307Z"
    }
   },
   "cell_type": "code",
   "source": "arr.max()",
   "id": "2b05ae7cf6d06163",
   "outputs": [
    {
     "data": {
      "text/plain": [
       "9"
      ]
     },
     "execution_count": 20,
     "metadata": {},
     "output_type": "execute_result"
    }
   ],
   "execution_count": 20
  },
  {
   "metadata": {
    "ExecuteTime": {
     "end_time": "2024-11-25T18:01:13.699367Z",
     "start_time": "2024-11-25T18:01:13.683366Z"
    }
   },
   "cell_type": "code",
   "source": "arr.var()",
   "id": "a98f9d5ada06d20e",
   "outputs": [
    {
     "data": {
      "text/plain": [
       "8.25"
      ]
     },
     "execution_count": 21,
     "metadata": {},
     "output_type": "execute_result"
    }
   ],
   "execution_count": 21
  },
  {
   "metadata": {
    "ExecuteTime": {
     "end_time": "2024-11-25T18:01:21.180218Z",
     "start_time": "2024-11-25T18:01:21.162449Z"
    }
   },
   "cell_type": "code",
   "source": "arr.std()",
   "id": "d34a358973cc3c89",
   "outputs": [
    {
     "data": {
      "text/plain": [
       "2.8722813232690143"
      ]
     },
     "execution_count": 22,
     "metadata": {},
     "output_type": "execute_result"
    }
   ],
   "execution_count": 22
  },
  {
   "metadata": {
    "ExecuteTime": {
     "end_time": "2024-11-25T18:02:19.093264Z",
     "start_time": "2024-11-25T18:02:19.074595Z"
    }
   },
   "cell_type": "code",
   "source": "arr2d = np.arange(0, 25).reshape(5, 5)",
   "id": "8865ec284acf6e5a",
   "outputs": [],
   "execution_count": 23
  },
  {
   "metadata": {
    "ExecuteTime": {
     "end_time": "2024-11-25T18:02:46.022384Z",
     "start_time": "2024-11-25T18:02:46.000318Z"
    }
   },
   "cell_type": "code",
   "source": "arr2d.shape",
   "id": "fd42f0739095cb06",
   "outputs": [
    {
     "data": {
      "text/plain": [
       "(5, 5)"
      ]
     },
     "execution_count": 24,
     "metadata": {},
     "output_type": "execute_result"
    }
   ],
   "execution_count": 24
  },
  {
   "metadata": {
    "ExecuteTime": {
     "end_time": "2024-11-25T18:02:50.703015Z",
     "start_time": "2024-11-25T18:02:50.690322Z"
    }
   },
   "cell_type": "code",
   "source": "arr2d",
   "id": "b16ef1ff9bebf8ae",
   "outputs": [
    {
     "data": {
      "text/plain": [
       "array([[ 0,  1,  2,  3,  4],\n",
       "       [ 5,  6,  7,  8,  9],\n",
       "       [10, 11, 12, 13, 14],\n",
       "       [15, 16, 17, 18, 19],\n",
       "       [20, 21, 22, 23, 24]])"
      ]
     },
     "execution_count": 25,
     "metadata": {},
     "output_type": "execute_result"
    }
   ],
   "execution_count": 25
  },
  {
   "metadata": {
    "ExecuteTime": {
     "end_time": "2024-11-25T18:03:22.906830Z",
     "start_time": "2024-11-25T18:03:22.888459Z"
    }
   },
   "cell_type": "code",
   "source": "arr2d.sum()",
   "id": "4a0462d546c32494",
   "outputs": [
    {
     "data": {
      "text/plain": [
       "300"
      ]
     },
     "execution_count": 26,
     "metadata": {},
     "output_type": "execute_result"
    }
   ],
   "execution_count": 26
  },
  {
   "metadata": {
    "ExecuteTime": {
     "end_time": "2024-11-25T18:03:51.787624Z",
     "start_time": "2024-11-25T18:03:51.777482Z"
    }
   },
   "cell_type": "code",
   "source": "arr2d.sum(axis=0)",
   "id": "a056a8eb1e241d0f",
   "outputs": [
    {
     "data": {
      "text/plain": [
       "array([50, 55, 60, 65, 70])"
      ]
     },
     "execution_count": 28,
     "metadata": {},
     "output_type": "execute_result"
    }
   ],
   "execution_count": 28
  },
  {
   "metadata": {
    "ExecuteTime": {
     "end_time": "2024-11-25T18:04:24.033941Z",
     "start_time": "2024-11-25T18:04:24.015225Z"
    }
   },
   "cell_type": "code",
   "source": "arr2d.sum(axis=1)",
   "id": "b69892316951f080",
   "outputs": [
    {
     "data": {
      "text/plain": [
       "array([ 10,  35,  60,  85, 110])"
      ]
     },
     "execution_count": 29,
     "metadata": {},
     "output_type": "execute_result"
    }
   ],
   "execution_count": 29
  },
  {
   "metadata": {},
   "cell_type": "code",
   "outputs": [],
   "execution_count": null,
   "source": "",
   "id": "54164ba40b4751b8"
  }
 ],
 "metadata": {
  "kernelspec": {
   "display_name": "Python 3",
   "language": "python",
   "name": "python3"
  },
  "language_info": {
   "codemirror_mode": {
    "name": "ipython",
    "version": 2
   },
   "file_extension": ".py",
   "mimetype": "text/x-python",
   "name": "python",
   "nbconvert_exporter": "python",
   "pygments_lexer": "ipython2",
   "version": "2.7.6"
  }
 },
 "nbformat": 4,
 "nbformat_minor": 5
}
