{
 "cells": [
  {
   "cell_type": "code",
   "id": "initial_id",
   "metadata": {
    "collapsed": true,
    "ExecuteTime": {
     "end_time": "2024-11-23T12:16:11.286343Z",
     "start_time": "2024-11-23T12:16:11.157464Z"
    }
   },
   "source": "import numpy as np",
   "outputs": [],
   "execution_count": 1
  },
  {
   "metadata": {
    "ExecuteTime": {
     "end_time": "2024-11-23T12:16:22.167368Z",
     "start_time": "2024-11-23T12:16:22.148347Z"
    }
   },
   "cell_type": "code",
   "source": "arr = np.arange(0,11)",
   "id": "a6d3f26466ce252f",
   "outputs": [],
   "execution_count": 2
  },
  {
   "metadata": {
    "ExecuteTime": {
     "end_time": "2024-11-23T12:16:25.810110Z",
     "start_time": "2024-11-23T12:16:25.794577Z"
    }
   },
   "cell_type": "code",
   "source": "arr",
   "id": "a43ac18520083920",
   "outputs": [
    {
     "data": {
      "text/plain": [
       "array([ 0,  1,  2,  3,  4,  5,  6,  7,  8,  9, 10])"
      ]
     },
     "execution_count": 3,
     "metadata": {},
     "output_type": "execute_result"
    }
   ],
   "execution_count": 3
  },
  {
   "metadata": {
    "ExecuteTime": {
     "end_time": "2024-11-23T12:16:40.681563Z",
     "start_time": "2024-11-23T12:16:40.666088Z"
    }
   },
   "cell_type": "code",
   "source": "arr[8]",
   "id": "bc39bc4d683f52de",
   "outputs": [
    {
     "data": {
      "text/plain": [
       "8"
      ]
     },
     "execution_count": 4,
     "metadata": {},
     "output_type": "execute_result"
    }
   ],
   "execution_count": 4
  },
  {
   "metadata": {
    "ExecuteTime": {
     "end_time": "2024-11-23T12:16:58.743721Z",
     "start_time": "2024-11-23T12:16:58.732791Z"
    }
   },
   "cell_type": "code",
   "source": "arr[1:5]",
   "id": "eee02fffab146020",
   "outputs": [
    {
     "data": {
      "text/plain": [
       "array([1, 2, 3, 4])"
      ]
     },
     "execution_count": 5,
     "metadata": {},
     "output_type": "execute_result"
    }
   ],
   "execution_count": 5
  },
  {
   "metadata": {
    "ExecuteTime": {
     "end_time": "2024-11-23T12:17:13.644171Z",
     "start_time": "2024-11-23T12:17:13.628669Z"
    }
   },
   "cell_type": "code",
   "source": "arr[:5]",
   "id": "b985a9f852b78dea",
   "outputs": [
    {
     "data": {
      "text/plain": [
       "array([0, 1, 2, 3, 4])"
      ]
     },
     "execution_count": 6,
     "metadata": {},
     "output_type": "execute_result"
    }
   ],
   "execution_count": 6
  },
  {
   "metadata": {
    "ExecuteTime": {
     "end_time": "2024-11-23T12:17:30.667581Z",
     "start_time": "2024-11-23T12:17:30.648705Z"
    }
   },
   "cell_type": "code",
   "source": "arr[5:]",
   "id": "c168ca675c5726a7",
   "outputs": [
    {
     "data": {
      "text/plain": [
       "array([ 5,  6,  7,  8,  9, 10])"
      ]
     },
     "execution_count": 7,
     "metadata": {},
     "output_type": "execute_result"
    }
   ],
   "execution_count": 7
  },
  {
   "metadata": {
    "ExecuteTime": {
     "end_time": "2024-11-23T12:17:58.357628Z",
     "start_time": "2024-11-23T12:17:58.343831Z"
    }
   },
   "cell_type": "code",
   "source": "arr",
   "id": "4c15bd346555c499",
   "outputs": [
    {
     "data": {
      "text/plain": [
       "array([ 0,  1,  2,  3,  4,  5,  6,  7,  8,  9, 10])"
      ]
     },
     "execution_count": 8,
     "metadata": {},
     "output_type": "execute_result"
    }
   ],
   "execution_count": 8
  },
  {
   "metadata": {
    "ExecuteTime": {
     "end_time": "2024-11-23T12:18:21.181390Z",
     "start_time": "2024-11-23T12:18:21.158911Z"
    }
   },
   "cell_type": "code",
   "source": "arr[0:5] = 100",
   "id": "dc7941e07b61cd11",
   "outputs": [],
   "execution_count": 9
  },
  {
   "metadata": {
    "ExecuteTime": {
     "end_time": "2024-11-23T12:18:24.022658Z",
     "start_time": "2024-11-23T12:18:24.008577Z"
    }
   },
   "cell_type": "code",
   "source": "arr",
   "id": "c6a0744aab274498",
   "outputs": [
    {
     "data": {
      "text/plain": [
       "array([100, 100, 100, 100, 100,   5,   6,   7,   8,   9,  10])"
      ]
     },
     "execution_count": 10,
     "metadata": {},
     "output_type": "execute_result"
    }
   ],
   "execution_count": 10
  },
  {
   "metadata": {
    "ExecuteTime": {
     "end_time": "2024-11-23T12:22:24.301380Z",
     "start_time": "2024-11-23T12:22:24.283190Z"
    }
   },
   "cell_type": "code",
   "source": "arr = np.arange(0,11)",
   "id": "842ecfad349222fb",
   "outputs": [],
   "execution_count": 18
  },
  {
   "metadata": {
    "ExecuteTime": {
     "end_time": "2024-11-23T12:22:24.904011Z",
     "start_time": "2024-11-23T12:22:24.889219Z"
    }
   },
   "cell_type": "code",
   "source": "slice_of_array = arr[0:5]",
   "id": "1ad2b94653e95e6f",
   "outputs": [],
   "execution_count": 19
  },
  {
   "metadata": {
    "ExecuteTime": {
     "end_time": "2024-11-23T12:22:25.383651Z",
     "start_time": "2024-11-23T12:22:25.374097Z"
    }
   },
   "cell_type": "code",
   "source": "slice_of_array",
   "id": "fc18ca6d45b64509",
   "outputs": [
    {
     "data": {
      "text/plain": [
       "array([0, 1, 2, 3, 4])"
      ]
     },
     "execution_count": 20,
     "metadata": {},
     "output_type": "execute_result"
    }
   ],
   "execution_count": 20
  },
  {
   "metadata": {
    "ExecuteTime": {
     "end_time": "2024-11-23T12:22:25.802699Z",
     "start_time": "2024-11-23T12:22:25.785666Z"
    }
   },
   "cell_type": "code",
   "source": "arr",
   "id": "3cf08d62ca55c067",
   "outputs": [
    {
     "data": {
      "text/plain": [
       "array([ 0,  1,  2,  3,  4,  5,  6,  7,  8,  9, 10])"
      ]
     },
     "execution_count": 21,
     "metadata": {},
     "output_type": "execute_result"
    }
   ],
   "execution_count": 21
  },
  {
   "metadata": {
    "ExecuteTime": {
     "end_time": "2024-11-23T12:22:45.416365Z",
     "start_time": "2024-11-23T12:22:45.399438Z"
    }
   },
   "cell_type": "code",
   "source": "slice_of_array[:] = 99",
   "id": "2b587536b75215d",
   "outputs": [],
   "execution_count": 22
  },
  {
   "metadata": {
    "ExecuteTime": {
     "end_time": "2024-11-23T12:22:47.536951Z",
     "start_time": "2024-11-23T12:22:47.509999Z"
    }
   },
   "cell_type": "code",
   "source": "slice_of_array",
   "id": "4a732c21f03e3e8c",
   "outputs": [
    {
     "data": {
      "text/plain": [
       "array([99, 99, 99, 99, 99])"
      ]
     },
     "execution_count": 23,
     "metadata": {},
     "output_type": "execute_result"
    }
   ],
   "execution_count": 23
  },
  {
   "metadata": {
    "ExecuteTime": {
     "end_time": "2024-11-23T12:22:52.030558Z",
     "start_time": "2024-11-23T12:22:52.005533Z"
    }
   },
   "cell_type": "code",
   "source": "arr",
   "id": "1aa615f27f35791c",
   "outputs": [
    {
     "data": {
      "text/plain": [
       "array([99, 99, 99, 99, 99,  5,  6,  7,  8,  9, 10])"
      ]
     },
     "execution_count": 24,
     "metadata": {},
     "output_type": "execute_result"
    }
   ],
   "execution_count": 24
  },
  {
   "metadata": {
    "ExecuteTime": {
     "end_time": "2024-11-23T12:23:28.678343Z",
     "start_time": "2024-11-23T12:23:28.661915Z"
    }
   },
   "cell_type": "code",
   "source": "arr_copy = arr.copy()",
   "id": "213e03d2acc47dfa",
   "outputs": [],
   "execution_count": 25
  },
  {
   "metadata": {
    "ExecuteTime": {
     "end_time": "2024-11-23T12:23:38.409675Z",
     "start_time": "2024-11-23T12:23:38.403953Z"
    }
   },
   "cell_type": "code",
   "source": "arr_copy[:] = 100",
   "id": "6a03251acb45935a",
   "outputs": [],
   "execution_count": 26
  },
  {
   "metadata": {
    "ExecuteTime": {
     "end_time": "2024-11-23T12:23:42.188119Z",
     "start_time": "2024-11-23T12:23:42.179233Z"
    }
   },
   "cell_type": "code",
   "source": "arr",
   "id": "8a45dceb5f25efb2",
   "outputs": [
    {
     "data": {
      "text/plain": [
       "array([99, 99, 99, 99, 99,  5,  6,  7,  8,  9, 10])"
      ]
     },
     "execution_count": 27,
     "metadata": {},
     "output_type": "execute_result"
    }
   ],
   "execution_count": 27
  },
  {
   "metadata": {
    "ExecuteTime": {
     "end_time": "2024-11-23T12:25:31.308776Z",
     "start_time": "2024-11-23T12:25:31.296607Z"
    }
   },
   "cell_type": "code",
   "source": "arr_2d = np.array([[5,10,15],[20,25,30],[35,40,45]])",
   "id": "d4f71a83cc664a4d",
   "outputs": [],
   "execution_count": 30
  },
  {
   "metadata": {
    "ExecuteTime": {
     "end_time": "2024-11-23T12:25:37.416135Z",
     "start_time": "2024-11-23T12:25:37.404575Z"
    }
   },
   "cell_type": "code",
   "source": "arr_2d",
   "id": "360fc9692b7aed77",
   "outputs": [
    {
     "data": {
      "text/plain": [
       "array([[ 5, 10, 15],\n",
       "       [20, 25, 30],\n",
       "       [35, 40, 45]])"
      ]
     },
     "execution_count": 31,
     "metadata": {},
     "output_type": "execute_result"
    }
   ],
   "execution_count": 31
  },
  {
   "metadata": {
    "ExecuteTime": {
     "end_time": "2024-11-23T12:26:25.321016Z",
     "start_time": "2024-11-23T12:26:25.301682Z"
    }
   },
   "cell_type": "code",
   "source": "arr_2d.shape",
   "id": "ff5269c2247a5dc3",
   "outputs": [
    {
     "data": {
      "text/plain": [
       "(3, 3)"
      ]
     },
     "execution_count": 32,
     "metadata": {},
     "output_type": "execute_result"
    }
   ],
   "execution_count": 32
  },
  {
   "metadata": {
    "ExecuteTime": {
     "end_time": "2024-11-23T12:26:32.116198Z",
     "start_time": "2024-11-23T12:26:32.099237Z"
    }
   },
   "cell_type": "code",
   "source": "arr_2d[0]",
   "id": "433b36b3641176e0",
   "outputs": [
    {
     "data": {
      "text/plain": [
       "array([ 5, 10, 15])"
      ]
     },
     "execution_count": 33,
     "metadata": {},
     "output_type": "execute_result"
    }
   ],
   "execution_count": 33
  },
  {
   "metadata": {
    "ExecuteTime": {
     "end_time": "2024-11-23T12:26:58.599041Z",
     "start_time": "2024-11-23T12:26:58.579675Z"
    }
   },
   "cell_type": "code",
   "source": "arr_2d[2]",
   "id": "8d2f1784b58de7a7",
   "outputs": [
    {
     "data": {
      "text/plain": [
       "array([35, 40, 45])"
      ]
     },
     "execution_count": 34,
     "metadata": {},
     "output_type": "execute_result"
    }
   ],
   "execution_count": 34
  },
  {
   "metadata": {
    "ExecuteTime": {
     "end_time": "2024-11-23T12:27:32.064122Z",
     "start_time": "2024-11-23T12:27:32.047414Z"
    }
   },
   "cell_type": "code",
   "source": "arr_2d[1][1]",
   "id": "e412253b43db91e7",
   "outputs": [
    {
     "data": {
      "text/plain": [
       "25"
      ]
     },
     "execution_count": 35,
     "metadata": {},
     "output_type": "execute_result"
    }
   ],
   "execution_count": 35
  },
  {
   "metadata": {
    "ExecuteTime": {
     "end_time": "2024-11-23T12:27:38.658350Z",
     "start_time": "2024-11-23T12:27:38.649598Z"
    }
   },
   "cell_type": "code",
   "source": "arr_2d[1,1]",
   "id": "e9417e91c78d471f",
   "outputs": [
    {
     "data": {
      "text/plain": [
       "25"
      ]
     },
     "execution_count": 36,
     "metadata": {},
     "output_type": "execute_result"
    }
   ],
   "execution_count": 36
  },
  {
   "metadata": {
    "ExecuteTime": {
     "end_time": "2024-11-23T12:27:40.716313Z",
     "start_time": "2024-11-23T12:27:40.699997Z"
    }
   },
   "cell_type": "code",
   "source": "arr_2d",
   "id": "2fb848aa7d8db9cc",
   "outputs": [
    {
     "data": {
      "text/plain": [
       "array([[ 5, 10, 15],\n",
       "       [20, 25, 30],\n",
       "       [35, 40, 45]])"
      ]
     },
     "execution_count": 37,
     "metadata": {},
     "output_type": "execute_result"
    }
   ],
   "execution_count": 37
  },
  {
   "metadata": {
    "ExecuteTime": {
     "end_time": "2024-11-23T12:27:51.248398Z",
     "start_time": "2024-11-23T12:27:51.234874Z"
    }
   },
   "cell_type": "code",
   "source": "arr_2d[0,2]",
   "id": "475296ba0603bf04",
   "outputs": [
    {
     "data": {
      "text/plain": [
       "15"
      ]
     },
     "execution_count": 38,
     "metadata": {},
     "output_type": "execute_result"
    }
   ],
   "execution_count": 38
  },
  {
   "metadata": {
    "ExecuteTime": {
     "end_time": "2024-11-23T12:28:16.512808Z",
     "start_time": "2024-11-23T12:28:16.490870Z"
    }
   },
   "cell_type": "code",
   "source": "arr_2d[:2]",
   "id": "fd2eb9e2b4370bdc",
   "outputs": [
    {
     "data": {
      "text/plain": [
       "array([[ 5, 10, 15],\n",
       "       [20, 25, 30]])"
      ]
     },
     "execution_count": 39,
     "metadata": {},
     "output_type": "execute_result"
    }
   ],
   "execution_count": 39
  },
  {
   "metadata": {
    "ExecuteTime": {
     "end_time": "2024-11-23T12:28:56.797859Z",
     "start_time": "2024-11-23T12:28:56.783701Z"
    }
   },
   "cell_type": "code",
   "source": "arr_2d[:2,1:]",
   "id": "d10a62e7508a75e5",
   "outputs": [
    {
     "data": {
      "text/plain": [
       "array([[10, 15],\n",
       "       [25, 30]])"
      ]
     },
     "execution_count": 40,
     "metadata": {},
     "output_type": "execute_result"
    }
   ],
   "execution_count": 40
  },
  {
   "metadata": {
    "ExecuteTime": {
     "end_time": "2024-11-23T12:30:19.894598Z",
     "start_time": "2024-11-23T12:30:19.876171Z"
    }
   },
   "cell_type": "code",
   "source": "arr = np.arange(1,11)",
   "id": "6d21bd552c7ae124",
   "outputs": [],
   "execution_count": 43
  },
  {
   "metadata": {
    "ExecuteTime": {
     "end_time": "2024-11-23T12:30:20.377200Z",
     "start_time": "2024-11-23T12:30:20.357356Z"
    }
   },
   "cell_type": "code",
   "source": "arr",
   "id": "8cc1410d08516839",
   "outputs": [
    {
     "data": {
      "text/plain": [
       "array([ 1,  2,  3,  4,  5,  6,  7,  8,  9, 10])"
      ]
     },
     "execution_count": 44,
     "metadata": {},
     "output_type": "execute_result"
    }
   ],
   "execution_count": 44
  },
  {
   "metadata": {
    "ExecuteTime": {
     "end_time": "2024-11-23T12:30:58.113189Z",
     "start_time": "2024-11-23T12:30:58.105376Z"
    }
   },
   "cell_type": "code",
   "source": "bool_array = arr>4",
   "id": "c25eb5d5e4a5f538",
   "outputs": [],
   "execution_count": 45
  },
  {
   "metadata": {
    "ExecuteTime": {
     "end_time": "2024-11-23T12:31:01.585135Z",
     "start_time": "2024-11-23T12:31:01.573189Z"
    }
   },
   "cell_type": "code",
   "source": "bool_array",
   "id": "44a9d1c0591ccd6e",
   "outputs": [
    {
     "data": {
      "text/plain": [
       "array([False, False, False, False,  True,  True,  True,  True,  True,\n",
       "        True])"
      ]
     },
     "execution_count": 46,
     "metadata": {},
     "output_type": "execute_result"
    }
   ],
   "execution_count": 46
  },
  {
   "metadata": {
    "ExecuteTime": {
     "end_time": "2024-11-23T12:31:10.388560Z",
     "start_time": "2024-11-23T12:31:10.361633Z"
    }
   },
   "cell_type": "code",
   "source": "arr[bool_array]",
   "id": "f8c5b8b757d40509",
   "outputs": [
    {
     "data": {
      "text/plain": [
       "array([ 5,  6,  7,  8,  9, 10])"
      ]
     },
     "execution_count": 47,
     "metadata": {},
     "output_type": "execute_result"
    }
   ],
   "execution_count": 47
  },
  {
   "metadata": {
    "ExecuteTime": {
     "end_time": "2024-11-23T12:31:39.511710Z",
     "start_time": "2024-11-23T12:31:39.491502Z"
    }
   },
   "cell_type": "code",
   "source": "arr[arr<4]",
   "id": "b064cd981ace280b",
   "outputs": [
    {
     "data": {
      "text/plain": [
       "array([1, 2, 3])"
      ]
     },
     "execution_count": 48,
     "metadata": {},
     "output_type": "execute_result"
    }
   ],
   "execution_count": 48
  },
  {
   "metadata": {},
   "cell_type": "code",
   "outputs": [],
   "execution_count": null,
   "source": "",
   "id": "c32fb584e77a1cee"
  }
 ],
 "metadata": {
  "kernelspec": {
   "display_name": "Python 3",
   "language": "python",
   "name": "python3"
  },
  "language_info": {
   "codemirror_mode": {
    "name": "ipython",
    "version": 2
   },
   "file_extension": ".py",
   "mimetype": "text/x-python",
   "name": "python",
   "nbconvert_exporter": "python",
   "pygments_lexer": "ipython2",
   "version": "2.7.6"
  }
 },
 "nbformat": 4,
 "nbformat_minor": 5
}
